{
 "cells": [
  {
   "cell_type": "code",
   "execution_count": 17,
   "metadata": {},
   "outputs": [],
   "source": [
    "import numpy as np\n",
    "\n",
    "def interpolate(n, instances, price):\n",
    "    # Write your code here\n",
    "    from scipy.interpolate import interp1d\n",
    "    #We verify whether there s only one element\n",
    "    if (len(instances)==1):\n",
    "        return str(price[0])\n",
    "    else:\n",
    "        if(n>max(instances)):##n is larger than all instances\n",
    "            \n",
    "            instances_inter = instances[-2:]\n",
    "            price_inter = price[-2:]\n",
    "            f = interp1d(instances_inter,price_inter,fill_value=\"extrapolate\")\n",
    "            price_hat = np.round(f(n),2)\n",
    "            if(price_hat<=0):\n",
    "                return None\n",
    "            else:\n",
    "                return str(price_hat)\n",
    "        #n is smaller than all instances\n",
    "        elif(n < min(instances)):\n",
    "            instances_inter = instances[:2]\n",
    "            price_inter = price[:2]\n",
    "            f = interp1d(instances_inter,price_inter,fill_value=\"extrapolate\")\n",
    "            price_hat = np.round(f(n),2)\n",
    "            if(price_hat<=0):\n",
    "                return None\n",
    "            else:\n",
    "                return str(price_hat)\n",
    "        #n is one of the elements within the list\n",
    "        elif(n in instances):\n",
    "            index_instance = instances.index(n)\n",
    "            if(price[index_instance]<=0):\n",
    "                return None\n",
    "            else:\n",
    "                return str(price[index_instance])\n",
    "        #n is not one of the elements within the list, but it is \n",
    "        #between the min and max values\n",
    "        else:\n",
    "            copy_instances = instances\n",
    "            copy_instances.append(n)\n",
    "            copy_instances = instances\n",
    "            copy_instances.sort()\n",
    "            index_n = copy_instances.index(n)\n",
    "            minidx = instances.index(copy_instances[index_n - 1])\n",
    "            maxidx = instances.index(copy_instances[index_n + 1])\n",
    "            interp_instances = [instances[minidx], instances[maxidx]]\n",
    "            interp_prices = [price[minidx],price[maxidx]]\n",
    "            f = interp1d(interp_instances,interp_prices,fill_value=\"extrapolate\")\n",
    "            price_hat = np.round(f(n),2)\n",
    "            if(price_hat<=0):\n",
    "                return None\n",
    "            else:\n",
    "                return str(price_hat)"
   ]
  },
  {
   "cell_type": "code",
   "execution_count": 21,
   "metadata": {},
   "outputs": [
    {
     "data": {
      "text/plain": [
       "'6.12'"
      ]
     },
     "execution_count": 21,
     "metadata": {},
     "output_type": "execute_result"
    }
   ],
   "source": [
    "interpolate(2000,[10,25,50,100,500],[27.32,23.13,21.25,18.00,15.50])"
   ]
  },
  {
   "cell_type": "code",
   "execution_count": null,
   "metadata": {},
   "outputs": [],
   "source": []
  }
 ],
 "metadata": {
  "kernelspec": {
   "display_name": "Python 3",
   "language": "python",
   "name": "python3"
  },
  "language_info": {
   "codemirror_mode": {
    "name": "ipython",
    "version": 3
   },
   "file_extension": ".py",
   "mimetype": "text/x-python",
   "name": "python",
   "nbconvert_exporter": "python",
   "pygments_lexer": "ipython3",
   "version": "3.8.5"
  }
 },
 "nbformat": 4,
 "nbformat_minor": 4
}
