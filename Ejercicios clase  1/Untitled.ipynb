{
 "cells": [
  {
   "cell_type": "code",
   "execution_count": 2,
   "id": "4e361eec-ac3b-4fd1-9b0a-724ceb7702b9",
   "metadata": {},
   "outputs": [
    {
     "name": "stdout",
     "output_type": "stream",
     "text": [
      "['Formatter', 'Template', '_ChainMap', '__all__', '__builtins__', '__cached__', '__doc__', '__file__', '__loader__', '__name__', '__package__', '__spec__', '_re', '_sentinel_dict', '_string', 'ascii_letters', 'ascii_lowercase', 'ascii_uppercase', 'capwords', 'digits', 'hexdigits', 'octdigits', 'printable', 'punctuation', 'whitespace']\n"
     ]
    }
   ],
   "source": [
    "import string\n",
    "print(dir(string))"
   ]
  },
  {
   "cell_type": "code",
   "execution_count": 3,
   "id": "56acd956-fcfa-4efc-a92c-140c0a8c2cd6",
   "metadata": {},
   "outputs": [],
   "source": [
    "import spacy"
   ]
  },
  {
   "cell_type": "code",
   "execution_count": 4,
   "id": "b9d6939e-f707-4734-a808-7547e4e814a3",
   "metadata": {},
   "outputs": [
    {
     "name": "stdout",
     "output_type": "stream",
     "text": [
      "['__doc__', '__loader__', '__name__', '__package__', '__spec__', 'acos', 'acosh', 'asin', 'asinh', 'atan', 'atan2', 'atanh', 'ceil', 'comb', 'copysign', 'cos', 'cosh', 'degrees', 'dist', 'e', 'erf', 'erfc', 'exp', 'expm1', 'fabs', 'factorial', 'floor', 'fmod', 'frexp', 'fsum', 'gamma', 'gcd', 'hypot', 'inf', 'isclose', 'isfinite', 'isinf', 'isnan', 'isqrt', 'lcm', 'ldexp', 'lgamma', 'log', 'log10', 'log1p', 'log2', 'modf', 'nan', 'nextafter', 'perm', 'pi', 'pow', 'prod', 'radians', 'remainder', 'sin', 'sinh', 'sqrt', 'tan', 'tanh', 'tau', 'trunc', 'ulp']\n"
     ]
    }
   ],
   "source": [
    "import math\n",
    "print(dir(math))"
   ]
  },
  {
   "cell_type": "code",
   "execution_count": 5,
   "id": "cf2fa8f9-7442-4e32-a788-666d3292950d",
   "metadata": {},
   "outputs": [
    {
     "name": "stdout",
     "output_type": "stream",
     "text": [
      "120\n"
     ]
    }
   ],
   "source": [
    "print(math.factorial(5))"
   ]
  },
  {
   "cell_type": "code",
   "execution_count": 6,
   "id": "c83d61ca-da5c-488f-9324-f94e6259cebd",
   "metadata": {},
   "outputs": [],
   "source": [
    "entrada = input(\"Digite el texto\")"
   ]
  },
  {
   "cell_type": "markdown",
   "id": "12034711",
   "metadata": {},
   "source": []
  },
  {
   "cell_type": "code",
   "execution_count": 17,
   "id": "962c0d1a-5df8-4164-900b-05ce4a378e67",
   "metadata": {},
   "outputs": [],
   "source": [
    "vector = entrada.split(' ')"
   ]
  },
  {
   "cell_type": "code",
   "execution_count": 19,
   "id": "870fe3ab-2895-49b9-afce-9d1f15012b39",
   "metadata": {},
   "outputs": [],
   "source": [
    "frecuenciaPalabras = []\n",
    "for w in vector:\n",
    "    frecuenciaPalabras.append(vector.count(w))"
   ]
  },
  {
   "cell_type": "code",
   "execution_count": 20,
   "id": "27c20bce-f23e-4f2f-bf1f-064ef2b9a738",
   "metadata": {},
   "outputs": [
    {
     "name": "stdout",
     "output_type": "stream",
     "text": [
      "Cadena\n",
      "holanaasmfa asdfadfadf\n",
      "\n",
      "Lista\n",
      "['holanaasmfa', 'asdfadfadf']\n",
      "\n",
      "Frecuencias\n",
      "[1, 1]\n",
      "\n",
      "Pares\n",
      "[('holanaasmfa', 1), ('asdfadfadf', 1)]\n"
     ]
    }
   ],
   "source": [
    "print(\"Cadena\\n\" + entrada +\"\\n\")\n",
    "print(\"Lista\\n\" + str(vector) + \"\\n\")\n",
    "print(\"Frecuencias\\n\" + str(frecuenciaPalabras) + \"\\n\")\n",
    "print(\"Pares\\n\" + str(list(zip(vector, frecuenciaPalabras))))"
   ]
  },
  {
   "cell_type": "code",
   "execution_count": null,
   "id": "32e81e61-50a2-4e8d-ae44-1fd4b29c0c24",
   "metadata": {},
   "outputs": [],
   "source": []
  }
 ],
 "metadata": {
  "kernelspec": {
   "display_name": "Python 3.10.7 64-bit",
   "language": "python",
   "name": "python3"
  },
  "language_info": {
   "codemirror_mode": {
    "name": "ipython",
    "version": 3
   },
   "file_extension": ".py",
   "mimetype": "text/x-python",
   "name": "python",
   "nbconvert_exporter": "python",
   "pygments_lexer": "ipython3",
   "version": "3.10.7"
  },
  "vscode": {
   "interpreter": {
    "hash": "2eccd8e0aa6bf5dfb7573d0c5aa1958eaaea67100af72e7bd1744c1b19b56895"
   }
  }
 },
 "nbformat": 4,
 "nbformat_minor": 5
}
